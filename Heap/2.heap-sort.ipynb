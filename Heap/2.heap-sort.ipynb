{
 "cells": [
  {
   "cell_type": "markdown",
   "metadata": {},
   "source": [
    "''' \n",
    "## Heap Sort Algorithm in Python\n",
    "\n",
    "### Description:\n",
    "Heap Sort is a comparison-based sorting technique based on a Binary Heap data structure. It works in two phases:\n",
    "1. **Heap Construction (Max-Heapify)**: The given array is converted into a Max-Heap (where the parent node is always larger than its children).\n",
    "2. **Heap Sort**: The root of the heap (largest element) is swapped with the last element, then heapified again to maintain the heap property. This process continues until the array is sorted.\n",
    "\n",
    "### Time Complexity:\n",
    "- **Building the heap**: O(n)\n",
    "- **Heap Sort (Extracting elements)**: O(n log n)\n",
    "- **Overall Complexity**: O(n log n)\n",
    "'''"
   ]
  },
  {
   "cell_type": "code",
   "execution_count": 10,
   "metadata": {},
   "outputs": [
    {
     "name": "stdout",
     "output_type": "stream",
     "text": [
      "The sorted heap elements are: 5 6 7 11 12 13\n"
     ]
    }
   ],
   "source": [
    "def heapify(arr, size, index):\n",
    "    \"\"\"\n",
    "    Maintains the heap property for a given subtree rooted at index `index`.\n",
    "    - If the left or right child is greater than the parent, swap and continue heapifying.\n",
    "    \"\"\"\n",
    "    if index >= size:\n",
    "        return\n",
    "    \n",
    "    largest = index  # Assume root is the largest\n",
    "    left_child = 2 * index + 1  # Left child index\n",
    "    right_child = 2 * index + 2  # Right child index\n",
    "    \n",
    "    # Check if left child is larger than root\n",
    "    if left_child < size and arr[index] < arr[left_child]:\n",
    "        largest = left_child\n",
    "    \n",
    "    # Check if right child is larger than the largest found so far\n",
    "    if right_child < size and arr[largest] < arr[right_child]:\n",
    "        largest = right_child\n",
    "    \n",
    "    # Swap and continue heapifying if root is not largest\n",
    "    if largest != index:\n",
    "        arr[index], arr[largest] = arr[largest], arr[index]\n",
    "        heapify(arr, size, largest)\n",
    "\n",
    "\n",
    "def heap_sort(arr):\n",
    "    \"\"\"\n",
    "    Sorts an array using the Heap Sort algorithm.\n",
    "    \"\"\"\n",
    "    n = len(arr)\n",
    "    \n",
    "    # Step 1: Build a max heap from the given array\n",
    "    for i in range(n // 2 - 1, -1, -1):\n",
    "        heapify(arr, n, i)\n",
    "    \n",
    "    # Step 2: Extract elements one by one from the heap\n",
    "    for i in range(n - 1, 0, -1):\n",
    "        arr[i], arr[0] = arr[0], arr[i]  # Swap max element with the last element\n",
    "        heapify(arr, i, 0)  # Heapify the reduced heap\n",
    "\n",
    "\n",
    "def print_heap(arr):\n",
    "    \"\"\"\n",
    "    Prints the sorted elements of the heap.\n",
    "    \"\"\"\n",
    "    print(\"The sorted heap elements are:\", *arr)\n",
    "\n",
    "\n",
    "if __name__ == \"__main__\":\n",
    "    arr = [12, 11, 13, 5, 6, 7]  # Sample array\n",
    "    heap_sort(arr)  # Perform heap sort\n",
    "    print_heap(arr)  # Print sorted array\n"
   ]
  }
 ],
 "metadata": {
  "kernelspec": {
   "display_name": ".venv",
   "language": "python",
   "name": "python3"
  },
  "language_info": {
   "codemirror_mode": {
    "name": "ipython",
    "version": 3
   },
   "file_extension": ".py",
   "mimetype": "text/x-python",
   "name": "python",
   "nbconvert_exporter": "python",
   "pygments_lexer": "ipython3",
   "version": "3.12.3"
  }
 },
 "nbformat": 4,
 "nbformat_minor": 2
}
